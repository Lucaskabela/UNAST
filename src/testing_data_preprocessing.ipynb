{
 "cells": [
  {
   "cell_type": "code",
   "execution_count": 2,
   "metadata": {},
   "outputs": [],
   "source": [
    "from data import text_to_sequence\n",
    "from data import sequence_to_text\n",
    "from data import raw_text_to_phoneme_ids\n",
    "from data import _symbols_to_sequence\n",
    "from data import _symbol_to_id\n",
    "import eng_to_ipa as ipa\n",
    "from data import _clean_text"
   ]
  },
  {
   "cell_type": "code",
   "execution_count": 3,
   "metadata": {},
   "outputs": [],
   "source": [
    "text = \"hello, i am the\""
   ]
  },
  {
   "cell_type": "code",
   "execution_count": 4,
   "metadata": {},
   "outputs": [
    {
     "data": {
      "text/plain": [
       "[11, 33, 4, 15, 18, 36, 2, 5, 34, 2, 27, 16, 2, 28, 32]"
      ]
     },
     "execution_count": 4,
     "metadata": {},
     "output_type": "execute_result"
    }
   ],
   "source": [
    "phoneme_ids = raw_text_to_phoneme_ids(text)\n",
    "phoneme_ids"
   ]
  },
  {
   "cell_type": "code",
   "execution_count": 5,
   "metadata": {},
   "outputs": [
    {
     "data": {
      "text/plain": [
       "'hɛˈloʊ aɪ æm ðə'"
      ]
     },
     "execution_count": 5,
     "metadata": {},
     "output_type": "execute_result"
    }
   ],
   "source": [
    "sequence_to_text(phoneme_ids)"
   ]
  },
  {
   "cell_type": "code",
   "execution_count": 6,
   "metadata": {},
   "outputs": [
    {
     "name": "stdout",
     "output_type": "stream",
     "text": [
      "hɛˈloʊ, aɪ æm ðə\n"
     ]
    },
    {
     "data": {
      "text/plain": [
       "[11, 33, 4, 15, 18, 36, 2, 5, 34, 2, 27, 16, 2, 28, 32]"
      ]
     },
     "execution_count": 6,
     "metadata": {},
     "output_type": "execute_result"
    }
   ],
   "source": [
    "clean_text = _clean_text(text, ['english_cleaners'])\n",
    "phonemes = ipa.convert(clean_text)\n",
    "print(phonemes)\n",
    "sequence = _symbols_to_sequence(phonemes)\n",
    "# Append EOS token\n",
    "# sequence.append(_symbol_to_id['~'])\n",
    "sequence"
   ]
  },
  {
   "cell_type": "code",
   "execution_count": 7,
   "metadata": {},
   "outputs": [
    {
     "data": {
      "text/plain": [
       "'hɛˈloʊ, aɪ æm ðə'"
      ]
     },
     "execution_count": 7,
     "metadata": {},
     "output_type": "execute_result"
    }
   ],
   "source": [
    "phonemes = ipa.convert(text)\n",
    "phonemes"
   ]
  },
  {
   "cell_type": "code",
   "execution_count": 8,
   "metadata": {},
   "outputs": [
    {
     "data": {
      "text/plain": [
       "[11, 8, 15, 18, 23, 2, 5, 12, 2, 5, 8, 16, 2, 7, 1]"
      ]
     },
     "execution_count": 8,
     "metadata": {},
     "output_type": "execute_result"
    }
   ],
   "source": [
    "sequence = text_to_sequence(phonemes, ['english_cleaners'])\n",
    "sequence"
   ]
  },
  {
   "cell_type": "code",
   "execution_count": 9,
   "metadata": {},
   "outputs": [
    {
     "data": {
      "text/plain": [
       "['AA',\n",
       " 'AA0',\n",
       " 'AA1',\n",
       " 'AA2',\n",
       " 'AE',\n",
       " 'AE0',\n",
       " 'AE1',\n",
       " 'AE2',\n",
       " 'AH',\n",
       " 'AH0',\n",
       " 'AH1',\n",
       " 'AH2',\n",
       " 'AO',\n",
       " 'AO0',\n",
       " 'AO1',\n",
       " 'AO2',\n",
       " 'AW',\n",
       " 'AW0',\n",
       " 'AW1',\n",
       " 'AW2',\n",
       " 'AY',\n",
       " 'AY0',\n",
       " 'AY1',\n",
       " 'AY2',\n",
       " 'B',\n",
       " 'CH',\n",
       " 'D',\n",
       " 'DH',\n",
       " 'EH',\n",
       " 'EH0',\n",
       " 'EH1',\n",
       " 'EH2',\n",
       " 'ER',\n",
       " 'ER0',\n",
       " 'ER1',\n",
       " 'ER2',\n",
       " 'EY',\n",
       " 'EY0',\n",
       " 'EY1',\n",
       " 'EY2',\n",
       " 'F',\n",
       " 'G',\n",
       " 'HH',\n",
       " 'IH',\n",
       " 'IH0',\n",
       " 'IH1',\n",
       " 'IH2',\n",
       " 'IY',\n",
       " 'IY0',\n",
       " 'IY1',\n",
       " 'IY2',\n",
       " 'JH',\n",
       " 'K',\n",
       " 'L',\n",
       " 'M',\n",
       " 'N',\n",
       " 'NG',\n",
       " 'OW',\n",
       " 'OW0',\n",
       " 'OW1',\n",
       " 'OW2',\n",
       " 'OY',\n",
       " 'OY0',\n",
       " 'OY1',\n",
       " 'OY2',\n",
       " 'P',\n",
       " 'R',\n",
       " 'S',\n",
       " 'SH',\n",
       " 'T',\n",
       " 'TH',\n",
       " 'UH',\n",
       " 'UH0',\n",
       " 'UH1',\n",
       " 'UH2',\n",
       " 'UW',\n",
       " 'UW0',\n",
       " 'UW1',\n",
       " 'UW2',\n",
       " 'V',\n",
       " 'W',\n",
       " 'Y',\n",
       " 'Z',\n",
       " 'ZH']"
      ]
     },
     "execution_count": 9,
     "metadata": {},
     "output_type": "execute_result"
    }
   ],
   "source": [
    "from data import cmudict\n",
    "cmudict.valid_symbols"
   ]
  },
  {
   "cell_type": "code",
   "execution_count": 10,
   "metadata": {},
   "outputs": [
    {
     "data": {
      "text/plain": [
       "'mrs one hundred hon'"
      ]
     },
     "execution_count": 10,
     "metadata": {},
     "output_type": "execute_result"
    }
   ],
   "source": [
    "_clean_text(\"MRS  100  Hon\", ['english_cleaners'])"
   ]
  },
  {
   "cell_type": "code",
   "execution_count": 11,
   "metadata": {},
   "outputs": [
    {
     "data": {
      "text/plain": [
       "'hello, i am the'"
      ]
     },
     "execution_count": 11,
     "metadata": {},
     "output_type": "execute_result"
    }
   ],
   "source": [
    "text"
   ]
  },
  {
   "cell_type": "code",
   "execution_count": 12,
   "metadata": {},
   "outputs": [],
   "source": [
    "phoneme_words = [\"odd\", \"at\", \"hut\", \"ought\", \"cow\", \"hide\", \"be\", \"cheese\", \"dee\", \"thee\", \"head\",      \n",
    "\"hurt\", \"ate\", \"fee\", \"green\", \"he\", \"it\", \"eat\", \"gee\", \"key\", \"lee\", \"me\",\n",
    "\"knee\", \"ping\", \"oat\", \"toy\", \"pee\", \"read\", \"sea\", \"she\", \"tea\", \"theta\",\n",
    "\"hood\", \"two\", \"vee\", \"we\", \"yield\", \"zee\", \"seizure\"]"
   ]
  },
  {
   "cell_type": "code",
   "execution_count": 13,
   "metadata": {},
   "outputs": [
    {
     "data": {
      "text/plain": [
       "39"
      ]
     },
     "execution_count": 13,
     "metadata": {},
     "output_type": "execute_result"
    }
   ],
   "source": [
    "len(phoneme_words)"
   ]
  },
  {
   "cell_type": "code",
   "execution_count": 14,
   "metadata": {},
   "outputs": [
    {
     "name": "stdout",
     "output_type": "stream",
     "text": [
      "ɑd\n",
      "æt\n",
      "hət\n",
      "ɔt\n",
      "kaʊ\n",
      "haɪd\n",
      "bi\n",
      "ʧiz\n",
      "di\n",
      "ði\n",
      "hɛd\n",
      "hərt\n",
      "eɪt\n",
      "fi\n",
      "grin\n",
      "hi\n",
      "ɪt\n",
      "it\n",
      "ʤi\n",
      "ki\n",
      "li\n",
      "mi\n",
      "ni\n",
      "pɪŋ\n",
      "oʊt\n",
      "tɔɪ\n",
      "pi\n",
      "rɛd\n",
      "si\n",
      "ʃi\n",
      "ti\n",
      "ˈθeɪtə\n",
      "hʊd\n",
      "tu\n",
      "vi\n",
      "wi\n",
      "jild\n",
      "zi\n",
      "ˈsiʒər\n"
     ]
    }
   ],
   "source": [
    "phones = set()\n",
    "for word in phoneme_words:\n",
    "    phonemes = ipa.convert(word)\n",
    "    print(phonemes)"
   ]
  },
  {
   "cell_type": "code",
   "execution_count": 15,
   "metadata": {},
   "outputs": [
    {
     "data": {
      "text/plain": [
       "set()"
      ]
     },
     "execution_count": 15,
     "metadata": {},
     "output_type": "execute_result"
    }
   ],
   "source": [
    "phones"
   ]
  },
  {
   "cell_type": "code",
   "execution_count": 16,
   "metadata": {},
   "outputs": [
    {
     "data": {
      "text/plain": [
       "0"
      ]
     },
     "execution_count": 16,
     "metadata": {},
     "output_type": "execute_result"
    }
   ],
   "source": [
    "len(phones)"
   ]
  },
  {
   "cell_type": "code",
   "execution_count": null,
   "metadata": {
    "collapsed": true
   },
   "outputs": [],
   "source": []
  }
 ],
 "metadata": {
  "kernelspec": {
   "display_name": "Python 3",
   "language": "python",
   "name": "python3"
  },
  "language_info": {
   "codemirror_mode": {
    "name": "ipython",
    "version": 3
   },
   "file_extension": ".py",
   "mimetype": "text/x-python",
   "name": "python",
   "nbconvert_exporter": "python",
   "pygments_lexer": "ipython3",
   "version": "3.6.13"
  }
 },
 "nbformat": 4,
 "nbformat_minor": 2
}
