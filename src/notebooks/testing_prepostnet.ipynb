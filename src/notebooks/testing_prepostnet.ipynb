{
 "cells": [
  {
   "cell_type": "code",
   "execution_count": null,
   "metadata": {},
   "outputs": [],
   "source": [
    "import matplotlib.pyplot as plt\n",
    "\n",
    "from data import sequence_to_text\n",
    "from preprocess import get_dataset, DataLoader, collate_fn_transformer\n",
    "from module import TextPrenet, SpeechPrenet, SpeechPostnet"
   ]
  },
  {
   "cell_type": "markdown",
   "metadata": {},
   "source": [
    "### Check network input\n",
    "Get the inputs to the network as described in `train.py` inputs are as expected."
   ]
  },
  {
   "cell_type": "code",
   "execution_count": null,
   "metadata": {},
   "outputs": [],
   "source": [
    "dataset = get_dataset()\n",
    "dataloader = DataLoader(dataset, batch_size=32,\n",
    "                        shuffle=True, collate_fn=collate_fn_transformer,\n",
    "                        drop_last=True, num_workers=16)"
   ]
  },
  {
   "cell_type": "markdown",
   "metadata": {},
   "source": [
    "Dataloader's first row:"
   ]
  },
  {
   "cell_type": "code",
   "execution_count": null,
   "metadata": {},
   "outputs": [],
   "source": [
    "tensor = next(iter(dataloader))\n",
    "text, mel, mel_input, pos_text, pos_mel, text_length = tensor"
   ]
  },
  {
   "cell_type": "code",
   "execution_count": null,
   "metadata": {
    "scrolled": true
   },
   "outputs": [],
   "source": [
    "print(\"Text:\", text[0])\n",
    "print(\"Mel:\", mel[0])\n",
    "print(\"Mel Input:\", mel_input[0])\n",
    "print(\"Pos Text:\", pos_text[0])\n",
    "print(\"Pos Mel:\", pos_mel[0])\n",
    "print(\"Text Length:\", text_length[0])"
   ]
  },
  {
   "cell_type": "markdown",
   "metadata": {},
   "source": [
    "As expected, the input to the text encoders are the phoneme sequences:"
   ]
  },
  {
   "cell_type": "code",
   "execution_count": null,
   "metadata": {},
   "outputs": [],
   "source": [
    "sequence_to_text(text[0].numpy().tolist())"
   ]
  },
  {
   "cell_type": "markdown",
   "metadata": {},
   "source": [
    "The input to the speech encoders are the mel spectrograms (80 mel filters per window):"
   ]
  },
  {
   "cell_type": "code",
   "execution_count": null,
   "metadata": {},
   "outputs": [],
   "source": [
    "fig = plt.figure(figsize=(30, 100))\n",
    "_ = plt.imshow(mel_input[0].numpy().T, origin=\"lower\")\n",
    "_ = plt.xlabel(\"Time\")\n",
    "_ = plt.ylabel(\"Mel Filters\")"
   ]
  },
  {
   "cell_type": "markdown",
   "metadata": {},
   "source": [
    "### Test Text Prenet"
   ]
  },
  {
   "cell_type": "code",
   "execution_count": null,
   "metadata": {},
   "outputs": [],
   "source": [
    "text_prenet = TextPrenet(embedding_size=512,  # from Transformer-TTS\n",
    "                         num_hidden=256)  # from Transformer-TTS"
   ]
  },
  {
   "cell_type": "code",
   "execution_count": null,
   "metadata": {},
   "outputs": [],
   "source": [
    "text_prenet_output = text_prenet(text).detach()"
   ]
  },
  {
   "cell_type": "code",
   "execution_count": null,
   "metadata": {},
   "outputs": [],
   "source": [
    "print(\"Input shape:\", text.shape)"
   ]
  },
  {
   "cell_type": "code",
   "execution_count": null,
   "metadata": {},
   "outputs": [],
   "source": [
    "print(\"Output shape:\", text_prenet_output.shape)"
   ]
  },
  {
   "cell_type": "markdown",
   "metadata": {},
   "source": [
    "As expected, output an embedding of 256 for each phoneme."
   ]
  },
  {
   "cell_type": "code",
   "execution_count": null,
   "metadata": {},
   "outputs": [],
   "source": [
    "fig = plt.figure(figsize=(3, 20))\n",
    "_ = plt.imshow(text_prenet_output[0].T)\n",
    "_ = plt.ylabel(\"Embedding\")\n",
    "_ = plt.xlabel(\"Phonemes\")"
   ]
  },
  {
   "cell_type": "markdown",
   "metadata": {},
   "source": [
    "### Test Speech Prenet"
   ]
  },
  {
   "cell_type": "code",
   "execution_count": null,
   "metadata": {},
   "outputs": [],
   "source": [
    "speech_prenet = SpeechPrenet(num_mels=80,  # 80 mel filters\n",
    "                             hidden_size=256,  # as indicated in Ren's paper\n",
    "                             output_size=256)  # this depends on decoder"
   ]
  },
  {
   "cell_type": "code",
   "execution_count": null,
   "metadata": {},
   "outputs": [],
   "source": [
    "speech_prenet_output = speech_prenet(mel_input).detach()"
   ]
  },
  {
   "cell_type": "code",
   "execution_count": null,
   "metadata": {},
   "outputs": [],
   "source": [
    "print(\"Input shape:\", mel_input.shape)"
   ]
  },
  {
   "cell_type": "code",
   "execution_count": null,
   "metadata": {},
   "outputs": [],
   "source": [
    "print(\"Output shape:\", speech_prenet_output.shape)"
   ]
  },
  {
   "cell_type": "markdown",
   "metadata": {},
   "source": [
    "### Test Speech Postnet"
   ]
  },
  {
   "cell_type": "code",
   "execution_count": null,
   "metadata": {},
   "outputs": [],
   "source": [
    "speech_postnet = SpeechPostnet(num_mels=80,  # 80 mel filters\n",
    "                               num_hidden=256)  # as indicated in Ren's paper"
   ]
  },
  {
   "cell_type": "markdown",
   "metadata": {},
   "source": [
    "The `mel_input` used here should be the mel-spectrogram output from the speech decoder. The Postnet is used to refine the mel-spectrogram further."
   ]
  },
  {
   "cell_type": "code",
   "execution_count": null,
   "metadata": {},
   "outputs": [],
   "source": [
    "decoder_output = mel_input.transpose(1, 2)"
   ]
  },
  {
   "cell_type": "code",
   "execution_count": null,
   "metadata": {},
   "outputs": [],
   "source": [
    "speech_postnet_output = speech_postnet(decoder_output).detach()"
   ]
  },
  {
   "cell_type": "code",
   "execution_count": null,
   "metadata": {},
   "outputs": [],
   "source": [
    "print(\"Input shape:\", decoder_output.shape)"
   ]
  },
  {
   "cell_type": "code",
   "execution_count": null,
   "metadata": {},
   "outputs": [],
   "source": [
    "print(\"Output shape:\", speech_postnet_output.shape)"
   ]
  },
  {
   "cell_type": "code",
   "execution_count": null,
   "metadata": {},
   "outputs": [],
   "source": [
    "fig = plt.figure(figsize=(30, 100))\n",
    "_ = plt.imshow(speech_postnet_output[0], origin=\"lower\")\n",
    "_ = plt.ylabel(\"(Supposedly) Mel Filters\")\n",
    "_ = plt.xlabel(\"Time\")"
   ]
  },
  {
   "cell_type": "code",
   "execution_count": null,
   "metadata": {},
   "outputs": [],
   "source": []
  }
 ],
 "metadata": {
  "kernelspec": {
   "display_name": "Python 3",
   "language": "python",
   "name": "python3"
  },
  "language_info": {
   "codemirror_mode": {
    "name": "ipython",
    "version": 3
   },
   "file_extension": ".py",
   "mimetype": "text/x-python",
   "name": "python",
   "nbconvert_exporter": "python",
   "pygments_lexer": "ipython3",
   "version": "3.6.13"
  }
 },
 "nbformat": 4,
 "nbformat_minor": 4
}
